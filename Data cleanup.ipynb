{
 "cells": [
  {
   "cell_type": "code",
   "execution_count": 1,
   "metadata": {},
   "outputs": [],
   "source": [
    "import pandas as pd"
   ]
  },
  {
   "cell_type": "code",
   "execution_count": 12,
   "metadata": {},
   "outputs": [
    {
     "data": {
      "text/html": [
       "<div>\n",
       "<style scoped>\n",
       "    .dataframe tbody tr th:only-of-type {\n",
       "        vertical-align: middle;\n",
       "    }\n",
       "\n",
       "    .dataframe tbody tr th {\n",
       "        vertical-align: top;\n",
       "    }\n",
       "\n",
       "    .dataframe thead th {\n",
       "        text-align: right;\n",
       "    }\n",
       "</style>\n",
       "<table border=\"1\" class=\"dataframe\">\n",
       "  <thead>\n",
       "    <tr style=\"text-align: right;\">\n",
       "      <th></th>\n",
       "      <th>State</th>\n",
       "      <th>Governor</th>\n",
       "      <th>Statewide Shelter in Place Date</th>\n",
       "      <th>Phase One Reopening Date</th>\n",
       "      <th>Total cases (2/29/20 to 7/21/20)</th>\n",
       "      <th>Population</th>\n",
       "    </tr>\n",
       "  </thead>\n",
       "  <tbody>\n",
       "    <tr>\n",
       "      <th>0</th>\n",
       "      <td>Georgia</td>\n",
       "      <td>Brian Kemp (R)</td>\n",
       "      <td>4/3/20</td>\n",
       "      <td>4/24/20</td>\n",
       "      <td>145575</td>\n",
       "      <td>10297484</td>\n",
       "    </tr>\n",
       "    <tr>\n",
       "      <th>1</th>\n",
       "      <td>Texas</td>\n",
       "      <td>Greg Abbott (R)</td>\n",
       "      <td>4/2/20</td>\n",
       "      <td>5/1/20</td>\n",
       "      <td>332434</td>\n",
       "      <td>27885195</td>\n",
       "    </tr>\n",
       "    <tr>\n",
       "      <th>2</th>\n",
       "      <td>Washington</td>\n",
       "      <td>Jay Inslee (D)</td>\n",
       "      <td>3/23/20</td>\n",
       "      <td>5/4/20</td>\n",
       "      <td>47743</td>\n",
       "      <td>7294336</td>\n",
       "    </tr>\n",
       "  </tbody>\n",
       "</table>\n",
       "</div>"
      ],
      "text/plain": [
       "        State         Governor Statewide Shelter in Place Date  \\\n",
       "0     Georgia   Brian Kemp (R)                          4/3/20   \n",
       "1       Texas  Greg Abbott (R)                          4/2/20   \n",
       "2  Washington   Jay Inslee (D)                         3/23/20   \n",
       "\n",
       "  Phase One Reopening Date  Total cases (2/29/20 to 7/21/20)  Population  \n",
       "0                  4/24/20                            145575    10297484  \n",
       "1                   5/1/20                            332434    27885195  \n",
       "2                   5/4/20                             47743     7294336  "
      ]
     },
     "execution_count": 12,
     "metadata": {},
     "output_type": "execute_result"
    }
   ],
   "source": [
    "# intialise data of lists. \n",
    "data = {'State':['Georgia', 'Texas', 'Washington'], \n",
    "        'Governor':['Brian Kemp (R)', 'Greg Abbott (R)', 'Jay Inslee (D)'],\n",
    "       'Statewide Shelter in Place Date':['4/3/20', '4/2/20', '3/23/20'],\n",
    "       'Phase One Reopening Date':['4/24/20', '5/1/20', '5/4/20'],\n",
    "       'Total cases (2/29/20 to 7/21/20)': [145575, 332434, 47743],\n",
    "       'Population': [10297484, 27885195, 7294336]} \n",
    "  \n",
    "# Create DataFrame \n",
    "df = pd.DataFrame(data) \n",
    "  \n",
    "# Print the output. \n",
    "df"
   ]
  },
  {
   "cell_type": "code",
   "execution_count": null,
   "metadata": {},
   "outputs": [],
   "source": []
  }
 ],
 "metadata": {
  "kernelspec": {
   "display_name": "Python 3",
   "language": "python",
   "name": "python3"
  },
  "language_info": {
   "codemirror_mode": {
    "name": "ipython",
    "version": 3
   },
   "file_extension": ".py",
   "mimetype": "text/x-python",
   "name": "python",
   "nbconvert_exporter": "python",
   "pygments_lexer": "ipython3",
   "version": "3.7.6"
  }
 },
 "nbformat": 4,
 "nbformat_minor": 4
}
