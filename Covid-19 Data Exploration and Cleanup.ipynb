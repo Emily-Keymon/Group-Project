{
 "cells": [
  {
   "cell_type": "markdown",
   "metadata": {},
   "source": [
    "## Covid-19 Data Exploration and Cleanup"
   ]
  },
  {
   "cell_type": "markdown",
   "metadata": {},
   "source": [
    "### Note:  We wanted to find a total % of the population tested number.  But it was challenging to find negative test results or total test results.  "
   ]
  },
  {
   "cell_type": "code",
   "execution_count": null,
   "metadata": {},
   "outputs": [],
   "source": [
    "# Import libraries\n",
    "import matplotlib.pyplot as plt\n",
    "import pandas as pd\n",
    "import datetime\n",
    "\n",
    "\n",
    "# Output File (CSV), need 3 files for 3 sets of data for comparison\n",
    "\n",
    "output_data_file_1 = \"output_data/data_source_1.csv\"\n",
    "output_data_file_2 = \"output_data/data_source_2.csv\"\n",
    "output_data_file_3 = \"output_data/data_source_3.csv\""
   ]
  },
  {
   "cell_type": "markdown",
   "metadata": {},
   "source": [
    "### Source 1 Covid data import and clean up for file 1\n",
    "#### This will be output into output_data/data_source_1"
   ]
  },
  {
   "cell_type": "code",
   "execution_count": null,
   "metadata": {},
   "outputs": [],
   "source": [
    "#Load data for source 1\n",
    "#Resource = https://covidtracking.com/data/download\n",
    "\n",
    "# Load file 1 to read\n",
    "covid_data_1 = \"Resources/daily.csv\"\n",
    "\n",
    "# Read csv file into DataFrame, set state as index\n",
    "covid_df_1 = pd.read_csv(covid_data_1, index_col = \"state\")\n",
    "covid_df_1"
   ]
  },
  {
   "cell_type": "code",
   "execution_count": null,
   "metadata": {},
   "outputs": [],
   "source": [
    "# Narrow down columns of covid_df_1 to state, date, positive\n",
    "df_1 = covid_df_1[[\"date\", \"positive\", \"negative\"]]\n",
    "df_1"
   ]
  },
  {
   "cell_type": "code",
   "execution_count": null,
   "metadata": {},
   "outputs": [],
   "source": [
    "# Filter out FL, GA, NY, TX and WA\n",
    "states = [\"FL\", \"GA\", \"NY\", \"TX\", \"WA\"]\n",
    "filter_df_1  = df_1[df_1.index.isin(states)]\n",
    "filter_df_1"
   ]
  },
  {
   "cell_type": "code",
   "execution_count": null,
   "metadata": {},
   "outputs": [],
   "source": [
    "# Rename state codes to Florida, Georgia, New York, Texas and Washington\n",
    "state_name_df = filter_df_1.rename(index={\"FL\": \"Florida\", \"GA\": \"Georgia\", \"NY\": \"New York\",\"TX\": \"Texas\", \"WA\":\"Washington\"})\n",
    "state_name_df"
   ]
  },
  {
   "cell_type": "code",
   "execution_count": null,
   "metadata": {},
   "outputs": [],
   "source": [
    "# Set date range for data\n",
    "start_date = 20200301\n",
    "end_date = 20200717\n",
    "after_start_date = state_name_df[\"date\"] >= start_date\n",
    "before_end_date = state_name_df[\"date\"] <= end_date\n",
    "between_two_dates = after_start_date & before_end_date\n",
    "filtered_dates_1 = state_name_df.loc[between_two_dates]\n",
    "print(filtered_dates_1)"
   ]
  },
  {
   "cell_type": "code",
   "execution_count": null,
   "metadata": {},
   "outputs": [],
   "source": [
    "# Sort by date in ascending order\n",
    "filtered_dates_1 = filtered_dates_1.sort_values([\"state\", \"date\"])\n",
    "filtered_dates_1"
   ]
  },
  {
   "cell_type": "code",
   "execution_count": null,
   "metadata": {},
   "outputs": [],
   "source": [
    "print(state_name_df.dtypes)"
   ]
  },
  {
   "cell_type": "code",
   "execution_count": null,
   "metadata": {},
   "outputs": [],
   "source": [
    "# Rename columns to match formatting of other data sets\n",
    "state_name_df = state_name_df.rename(columns = {'positive': 'positive cases', \n",
    "                                                'negative': 'negative cases'})\n",
    "state_name_df"
   ]
  },
  {
   "cell_type": "code",
   "execution_count": null,
   "metadata": {},
   "outputs": [],
   "source": [
    "# Change formatting of date to match those of other data sets\n",
    "state_name_df['date'] = pd.to_datetime(state_name_df['date'], format = '%Y%m%d')\n",
    "state_name_df"
   ]
  },
  {
   "cell_type": "code",
   "execution_count": null,
   "metadata": {},
   "outputs": [],
   "source": [
    "# Alter variable type of positive and negative cases to match formatting of other data sets\n",
    "state_name_df['positive cases'] = state_name_df['positive cases'].astype(int)\n",
    "state_name_df.dropna(inplace = True)\n",
    "state_name_df['negative cases'] = state_name_df['negative cases'].astype(int)\n",
    "state_name_df"
   ]
  },
  {
   "cell_type": "code",
   "execution_count": null,
   "metadata": {},
   "outputs": [],
   "source": [
    "#Save to csv file\n",
    "state_name_df.to_csv('output_data/data_source_1.csv')"
   ]
  },
  {
   "cell_type": "code",
   "execution_count": null,
   "metadata": {},
   "outputs": [],
   "source": []
  },
  {
   "cell_type": "markdown",
   "metadata": {},
   "source": [
    "### Source 2 data import and clean up for file 2\n",
    "#### This will be output into output_data/data_source_2\n"
   ]
  },
  {
   "cell_type": "code",
   "execution_count": null,
   "metadata": {},
   "outputs": [],
   "source": [
    "# Load data for source 2\n",
    "# Reference https://www.kaggle.com/fireballbyedimyrnmom/us-counties-covid-19-dataset?select=us-counties.csv\n",
    "\n",
    "covid_data_2 = \"Resources/us-counties.csv\"\n",
    "\n",
    "# Read csv file into DataFrame\n",
    "covid_df_2 = pd.read_csv(covid_data_2)\n",
    "covid_df_2"
   ]
  },
  {
   "cell_type": "code",
   "execution_count": null,
   "metadata": {},
   "outputs": [],
   "source": [
    "# Narrow down columns of covid_df_2 to state, date, cases\n",
    "df_2 = covid_df_2[[\"date\", \"state\", \"cases\"]]\n",
    "df_2"
   ]
  },
  {
   "cell_type": "code",
   "execution_count": null,
   "metadata": {},
   "outputs": [],
   "source": [
    "# Set index to states\n",
    "df_2 = df_2.set_index('state')\n",
    "df_2"
   ]
  },
  {
   "cell_type": "code",
   "execution_count": null,
   "metadata": {},
   "outputs": [],
   "source": [
    "# Rename the 'cases' column to 'positive cases' to be consistent with other data sets\n",
    "df_2 = df_2.rename(columns = {'cases': 'positive cases'})\n",
    "df_2"
   ]
  },
  {
   "cell_type": "code",
   "execution_count": null,
   "metadata": {},
   "outputs": [],
   "source": [
    "# Filter out Florida, Georgia, New York, Texas and Washington\n",
    "states = [\"New York\", \"Georgia\", \"New York\", \"Texas\", \"Washington\"]\n",
    "filter_df_2  = df_2[df_2.index.isin(states)]\n",
    "filter_df_2"
   ]
  },
  {
   "cell_type": "code",
   "execution_count": null,
   "metadata": {},
   "outputs": [],
   "source": [
    "# Set date range for data\n",
    "start_date = '3/1/2020'\n",
    "end_date = '7/17/2020'\n",
    "after_start_date = filter_df_2[\"date\"] >= start_date\n",
    "before_end_date = filter_df_2[\"date\"] <= end_date\n",
    "between_two_dates = after_start_date & before_end_date\n",
    "filtered_dates_2 = filter_df_2.loc[between_two_dates]\n",
    "print(filtered_dates_2)"
   ]
  },
  {
   "cell_type": "code",
   "execution_count": null,
   "metadata": {},
   "outputs": [],
   "source": [
    "# Group duplicate dates for each state into a total positive case per day\n",
    "group_df_2 = filter_df_2.groupby([\"state\", \"date\"])\n",
    "group_df_2['positive cases'].sum()"
   ]
  },
  {
   "cell_type": "code",
   "execution_count": null,
   "metadata": {},
   "outputs": [],
   "source": [
    "# Save data frame to a CSV file\n",
    "group_df_2 = filter_df_2.groupby([\"state\", \"date\"])\n",
    "group_df_2.sum().reset_index().to_csv('output_data/group_df_2.csv')"
   ]
  },
  {
   "cell_type": "code",
   "execution_count": null,
   "metadata": {},
   "outputs": [],
   "source": [
    "# Open newly saved data CSV file\n",
    "new = \"output_data/group_df_2.csv\"\n",
    "new_df_2 = pd.read_csv(new)\n",
    "new_df_2"
   ]
  },
  {
   "cell_type": "code",
   "execution_count": null,
   "metadata": {},
   "outputs": [],
   "source": [
    "# Select for columns of interest\n",
    "new_df_2 = new_df_2[['state', 'date', 'positive cases']]\n",
    "new_df_2"
   ]
  },
  {
   "cell_type": "code",
   "execution_count": null,
   "metadata": {},
   "outputs": [],
   "source": [
    "# Alter date format to be consistent with other data frames\n",
    "new_df_2['date'] = pd.to_datetime(new_df_2['date'])\n",
    "new_df_2"
   ]
  },
  {
   "cell_type": "code",
   "execution_count": null,
   "metadata": {},
   "outputs": [],
   "source": [
    "#Sort by date in ascending order\n",
    "data_source_2 = new_df_2.sort_values([\"state\", \"date\"])\n",
    "data_source_2"
   ]
  },
  {
   "cell_type": "code",
   "execution_count": null,
   "metadata": {},
   "outputs": [],
   "source": [
    "# Set index to state\n",
    "data_source_2 = data_source_2.set_index('state')\n",
    "data_source_2"
   ]
  },
  {
   "cell_type": "code",
   "execution_count": null,
   "metadata": {},
   "outputs": [],
   "source": [
    "# Save to CSV file\n",
    "data_source_2.to_csv('output_data/data_source_2.csv')"
   ]
  },
  {
   "cell_type": "markdown",
   "metadata": {},
   "source": [
    "### Source 3 data import and clean up for file 3\n",
    "#### This will be output into output_data/data_source_3\n"
   ]
  },
  {
   "cell_type": "code",
   "execution_count": null,
   "metadata": {},
   "outputs": [],
   "source": [
    "# Load data for source 3\n",
    "#Reference = https://raw.githubusercontent.com/nytimes/covid-19-data/master/us-states.csv\n",
    "\n",
    "covid_url = \"https://raw.githubusercontent.com/nytimes/covid-19-data/master/us-states.csv\"\n",
    "\n",
    "# Read csv file into DataFrame, set state as index\n",
    "covid_df_3 = pd.read_csv(covid_url, index_col = \"state\")\n",
    "covid_df_3"
   ]
  },
  {
   "cell_type": "code",
   "execution_count": null,
   "metadata": {},
   "outputs": [],
   "source": [
    "# Narrow down columns of covid_df_2 to state, date, cases\n",
    "df_3 = covid_df_3[[\"date\", \"cases\"]]\n",
    "df_3"
   ]
  },
  {
   "cell_type": "code",
   "execution_count": null,
   "metadata": {},
   "outputs": [],
   "source": [
    "# Filter out Florida, Georgia, New York, Texas and Washington\n",
    "states = [\"Florida\", \"Georgia\", \"New York\", \"Texas\", \"Washington\"]\n",
    "filter_df_3  = df_3[df_3.index.isin(states)]\n",
    "filter_df_3"
   ]
  },
  {
   "cell_type": "code",
   "execution_count": null,
   "metadata": {},
   "outputs": [],
   "source": [
    "# Rename column to match formatting in other data sets\n",
    "filter_df_3 = filter_df_3.rename(columns = {'cases': 'positive cases'})\n",
    "filter_df_3"
   ]
  },
  {
   "cell_type": "code",
   "execution_count": null,
   "metadata": {},
   "outputs": [],
   "source": [
    "# Set timeframe parameters\n",
    "start_date = '2020-03-01'\n",
    "end_date = '2020-07-17'\n",
    "after_start_date = filter_df_3[\"date\"] >= start_date\n",
    "before_end_date = filter_df_3[\"date\"] <= end_date\n",
    "between_two_dates = after_start_date & before_end_date\n",
    "filtered_dates_3 = filter_df_3.loc[between_two_dates]\n",
    "print(filtered_dates_3)"
   ]
  },
  {
   "cell_type": "code",
   "execution_count": null,
   "metadata": {},
   "outputs": [],
   "source": [
    "#Sort by date in ascending order\n",
    "filtered_dates_3 = filtered_dates_3.sort_values([\"state\", \"date\"])\n",
    "filtered_dates_3"
   ]
  },
  {
   "cell_type": "code",
   "execution_count": null,
   "metadata": {},
   "outputs": [],
   "source": [
    "# Save to csv file\n",
    "filtered_dates_3.to_csv('output_data/data_source_3.csv')"
   ]
  },
  {
   "cell_type": "code",
   "execution_count": null,
   "metadata": {},
   "outputs": [],
   "source": []
  },
  {
   "cell_type": "markdown",
   "metadata": {},
   "source": [
    "### Population data import and clean up \n",
    "#### This will be output into output_data/pop_df\n"
   ]
  },
  {
   "cell_type": "code",
   "execution_count": null,
   "metadata": {},
   "outputs": [],
   "source": [
    "# Pull population data\n",
    "# Downloaded data from https://www.kaggle.com/headsortails/covid19-us-county-jhu-data-demographics/data?select=us_county.csv\n",
    "# Saved as csv named population datasets\n",
    "\n",
    "#Population data\n",
    "#Load file to read\n",
    "pop_file = (\"Resources/population datasets.csv\")\n",
    "\n",
    "# Read csv file into DataFrame\n",
    "pop_df = pd.read_csv(pop_file, index_col = \"state\")\n",
    "pop_df"
   ]
  },
  {
   "cell_type": "code",
   "execution_count": null,
   "metadata": {},
   "outputs": [],
   "source": [
    "# Narrow down columns of pop_df to state and population\n",
    "narrow_pop_df = pop_df[[\"population\"]]\n",
    "narrow_pop_df"
   ]
  },
  {
   "cell_type": "code",
   "execution_count": null,
   "metadata": {},
   "outputs": [],
   "source": [
    "# Filter out Florida, Georgia, New York, Texas and Washington\n",
    "states = [\"Florida\", \"Georgia\", \"New York\", \"Texas\", \"Washington\"]\n",
    "pop_filter_df  = narrow_pop_df[narrow_pop_df.index.isin(states)]\n",
    "pop_filter_df"
   ]
  },
  {
   "cell_type": "code",
   "execution_count": null,
   "metadata": {},
   "outputs": [],
   "source": [
    "# Filter state and population\n",
    "state_pop_df = pop_filter_df.groupby('state')['population'].sum()\n",
    "state_pop_df"
   ]
  },
  {
   "cell_type": "code",
   "execution_count": null,
   "metadata": {},
   "outputs": [],
   "source": [
    "# Save to csv file\n",
    "pop_filter_df.to_csv(\"output_data/pop_df.csv\")"
   ]
  },
  {
   "cell_type": "code",
   "execution_count": null,
   "metadata": {},
   "outputs": [],
   "source": []
  },
  {
   "cell_type": "markdown",
   "metadata": {},
   "source": [
    "### Dataset for state data with state information\n",
    "#### This will be output into output_data/state_df"
   ]
  },
  {
   "cell_type": "code",
   "execution_count": null,
   "metadata": {},
   "outputs": [],
   "source": [
    "# Build dataset with state data\n",
    "# Reference https://www.washingtonpost.com/graphics/2020/national/states-reopening-coronavirus-map/\n",
    "\n",
    "data = {'State':['Florida', 'Georgia', 'New York', 'Texas', 'Washington'], \n",
    "        'Governor':['Ron DeSantis (R)','Brian Kemp (R)', 'Andrew Cuomo(D)','Greg Abbott (R)', 'Jay Inslee (D)'],\n",
    "       'Statewide Shelter in Place Date':['4/2/20','4/3/20', '3/22/20','4/2/20', '3/23/20'],\n",
    "       'Phase One Reopening Date':['5/4/20', '4/24/20', 'Still closed','5/1/20', '5/4/20'],\n",
    "       'Total cases (2/29/20 to 7/21/20)': [379619, 145575, 408886, 332434, 47743],\n",
    "       'Population': [20598139, 10297484, 19618453, 27885195, 7294336]} \n",
    "  \n",
    "# Create DataFrame \n",
    "state_df = pd.DataFrame(data) \n",
    "  \n",
    "# Print the output\n",
    "state_df"
   ]
  },
  {
   "cell_type": "code",
   "execution_count": null,
   "metadata": {},
   "outputs": [],
   "source": [
    "# Save to csv file\n",
    "state_df.to_csv(\"output_data/state_df.csv\")"
   ]
  },
  {
   "cell_type": "code",
   "execution_count": null,
   "metadata": {},
   "outputs": [],
   "source": []
  },
  {
   "cell_type": "code",
   "execution_count": null,
   "metadata": {},
   "outputs": [],
   "source": []
  },
  {
   "cell_type": "code",
   "execution_count": null,
   "metadata": {},
   "outputs": [],
   "source": []
  },
  {
   "cell_type": "code",
   "execution_count": null,
   "metadata": {},
   "outputs": [],
   "source": []
  }
 ],
 "metadata": {
  "kernelspec": {
   "display_name": "Python 3",
   "language": "python",
   "name": "python3"
  },
  "language_info": {
   "codemirror_mode": {
    "name": "ipython",
    "version": 3
   },
   "file_extension": ".py",
   "mimetype": "text/x-python",
   "name": "python",
   "nbconvert_exporter": "python",
   "pygments_lexer": "ipython3",
   "version": "3.7.6"
  }
 },
 "nbformat": 4,
 "nbformat_minor": 4
}
